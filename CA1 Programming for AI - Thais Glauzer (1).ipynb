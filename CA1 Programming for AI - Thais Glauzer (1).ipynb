{
 "cells": [
  {
   "cell_type": "markdown",
   "id": "312aacc0-b742-4803-abb0-453859ec5005",
   "metadata": {},
   "source": [
    "### Q1 (15 marks)\n",
    "\n",
    "Select two datasets and create a user defined function in Python that leverages the fundamental features of the Python without using Pandas built in functions such as\n",
    "\n",
    "(numeric_df =df.select_dtypes(include=['number'])\n",
    "\n",
    "categorical_df = df.select_dtypes(exclude=['number'])\n",
    " \n",
    "Your function should accept a Data Frame as input and categorize its columns into numeric and categorical types, then display the lists of numeric and categorical columns. Include a section in your report where you discuss your interpretation of this task and its significance within the field of artificial intelligence and make sure to run the code and attach a screenshot of your machine in the appendix of your report. \n"
   ]
  },
  {
   "cell_type": "code",
   "execution_count": 2,
   "id": "8914c6fb-1040-4eed-a622-e71cfdc5cae7",
   "metadata": {},
   "outputs": [
    {
     "name": "stdout",
     "output_type": "stream",
     "text": [
      "Iris Dataset:\n",
      "Number of numeric columns: 4\n",
      "Number of categorical columns: 1\n",
      "\n",
      "Heart Records Dataset:\n",
      "Number of numeric columns: 13\n",
      "Number of categorical columns: 0\n"
     ]
    }
   ],
   "source": [
    "import csv\n",
    "\n",
    "def categorize_columns(filename):\n",
    "\n",
    "    numeric_cols = []\n",
    "    categorical_cols = []\n",
    "\n",
    "    with open(filename, 'r') as file:\n",
    "        reader = csv.reader(file)\n",
    "        header = next(reader)  # Extract the header row\n",
    "\n",
    "        # Assuming the first row contains sample data\n",
    "        sample_row = next(reader)\n",
    "\n",
    "        for i, value in enumerate(sample_row):\n",
    "            try:\n",
    "                float(value)  # Attempt to convert to float\n",
    "                numeric_cols.append(header[i])\n",
    "            except ValueError:\n",
    "                categorical_cols.append(header[i])\n",
    "\n",
    "    return numeric_cols, categorical_cols\n",
    "\n",
    "# Process the Iris dataset\n",
    "iris_filename = 'iris.csv'\n",
    "iris_numeric_cols, iris_categorical_cols = categorize_columns(iris_filename)\n",
    "\n",
    "# Process the Heart Records dataset\n",
    "heart_records_filename = 'heart_records.csv'\n",
    "heart_numeric_cols, heart_categorical_cols = categorize_columns(heart_records_filename)\n",
    "\n",
    "# Print the results\n",
    "print(\"Iris Dataset:\")\n",
    "print(\"Number of numeric columns:\", len(iris_numeric_cols))\n",
    "print(\"Number of categorical columns:\", len(iris_categorical_cols))\n",
    "\n",
    "print(\"\\nHeart Records Dataset:\")\n",
    "print(\"Number of numeric columns:\", len(heart_numeric_cols))\n",
    "print(\"Number of categorical columns:\", len(heart_categorical_cols))"
   ]
  },
  {
   "cell_type": "markdown",
   "id": "19ae34a6-5f90-4995-b27d-51dad94ea3a0",
   "metadata": {},
   "source": [
    "### Q2 (15 marks)\n",
    "\n",
    "Write a function, the function should achieve the following objectives:\n",
    "\n",
    "1.\tIn pandas:\n",
    "   \n",
    "•\tConcatenate the two datasets, which you have used in Question1,  along the rows.\n",
    "\n",
    "•\tRemove any duplicate rows.\n",
    "\n",
    "•\tPrint the number of rows and columns in the resulting DataFrame.\n",
    "\n",
    "2.\tIn NumPy:\n",
    "   \n",
    "•\tCalculate the correlation matrix for all numeric columns.\n",
    "\n",
    "•\tIdentify the pair of columns with the highest correlation coefficient.\n",
    "\n",
    "•\tPrint the names of these columns along with their correlation coefficient.\n",
    "\n",
    "Include a section in your report where you discuss your comprehension of this task and its relevance in the field of data pre-processing and analysis using pandas and NumPy libraries. \n",
    "Make sure to run the code and attach a screenshot of your machine in the appendix of your report.\n"
   ]
  },
  {
   "cell_type": "code",
   "execution_count": 4,
   "id": "4d2c6e85-e3de-4d8b-a8d9-df05e538e16b",
   "metadata": {},
   "outputs": [
    {
     "name": "stdout",
     "output_type": "stream",
     "text": [
      "Number of rows: 448\n",
      "Number of columns: 18\n"
     ]
    }
   ],
   "source": [
    "#Exercise with pandas\n",
    "import pandas as pd\n",
    "\n",
    "def concatenate_and_remove_duplicates(iris_df, heart_records_df):\n",
    "\n",
    "  # Concatenate DataFrames along rows\n",
    "  concatenated_df = pd.concat([iris_df, heart_records_df], ignore_index=True)\n",
    "\n",
    "  # Remove duplicate rows\n",
    "  concatenated_df.drop_duplicates(inplace=True)\n",
    "\n",
    "  # Print the number of rows and columns\n",
    "  print(\"Number of rows:\", concatenated_df.shape[0])\n",
    "  print(\"Number of columns:\", concatenated_df.shape[1])\n",
    "\n",
    "  return concatenated_df\n",
    "\n",
    "# Load the datasets\n",
    "iris_df = pd.read_csv('iris.csv')\n",
    "heart_records_df = pd.read_csv('heart_records.csv')\n",
    "\n",
    "# Concatenate and remove duplicates\n",
    "result_df = concatenate_and_remove_duplicates(iris_df, heart_records_df)"
   ]
  },
  {
   "cell_type": "code",
   "execution_count": 5,
   "id": "524324f3-d54b-440a-b5a2-18f8d0e23063",
   "metadata": {},
   "outputs": [
    {
     "name": "stdout",
     "output_type": "stream",
     "text": [
      "Pair of columns with the highest correlation: ('sepalLength', 'sepalLength')\n",
      "Correlation coefficient: 1.0\n"
     ]
    }
   ],
   "source": [
    "#Exercise in numpy\n",
    "import numpy as np\n",
    "\n",
    "# Load the datasets\n",
    "iris_df = pd.read_csv('iris.csv')\n",
    "heart_records_df = pd.read_csv('heart_records.csv')\n",
    "\n",
    "# Concatenate the datasets\n",
    "concatenated_df = pd.concat([iris_df, heart_records_df], ignore_index=True)\n",
    "\n",
    "# Select only numeric columns\n",
    "numeric_df = concatenated_df.select_dtypes(include=['number'])\n",
    "\n",
    "# Calculate the correlation matrix\n",
    "correlation_matrix = numeric_df.corr()\n",
    "\n",
    "# Find the pair of columns with the highest correlation coefficient\n",
    "max_corr = correlation_matrix.unstack().sort_values(ascending=False).iloc[1]  # Exclude the diagonal (self-correlation)\n",
    "max_corr_cols = correlation_matrix.unstack().idxmax()\n",
    "\n",
    "# Print the result\n",
    "print(\"Pair of columns with the highest correlation:\", max_corr_cols)\n",
    "print(\"Correlation coefficient:\", max_corr)"
   ]
  },
  {
   "cell_type": "markdown",
   "id": "b8fb785e-5dcf-44e3-a543-fa24c057bac2",
   "metadata": {},
   "source": [
    "### Q3 (10 marks)\n",
    "\n",
    "Write a python program to implement the below algorithm:\n",
    "\n",
    "●\tCreate a NumPy array with 1000 random elements (numbers) and take the mean of every 5 sample window. \n",
    "\n",
    "●\t[datamean]  < -- mean ( [ numpy_array (1 : 5 : end ) ] )\n",
    "\n",
    "●\t[data]min < -- min ( [ datamean ] )\n",
    "\n",
    "●\t[data]max < -- max ( [ datamean ] )\n",
    "\n",
    "●\t[ value ] max < -- max ( abs ( [data]max),  abs([ [data]min])\n",
    "\n",
    "Include a section in your report  where you discuss your interpretation and significance of this task and make sure to run the code and attach a screenshot of your machine in the appendix of your report.\n"
   ]
  },
  {
   "cell_type": "code",
   "execution_count": 30,
   "id": "1665dc6b-b02c-4635-80d8-dfeaa29080f6",
   "metadata": {},
   "outputs": [
    {
     "name": "stdout",
     "output_type": "stream",
     "text": [
      "Mean of windowed means: 0.49025655332013357\n",
      "Minimum mean: 0.1449674402535146\n",
      "Maximum mean: 0.8353887443857193\n",
      "Maximum absolute value: 0.8353887443857193\n"
     ]
    }
   ],
   "source": [
    "import numpy as np\n",
    "\n",
    "# Generate 1000 random numbers\n",
    "np.random.seed(42)  # Set a seed for reproducibility\n",
    "random_array = np.random.rand(1000)\n",
    "\n",
    "# Calculate the mean of every 5 samples\n",
    "window_size = 5\n",
    "windowed_means = np.mean(random_array.reshape(-1, window_size), axis=1)\n",
    "\n",
    "# Calculate the mean of all windowed means\n",
    "data_mean = np.mean(windowed_means)\n",
    "\n",
    "# Find the minimum and maximum mean\n",
    "data_min = np.min(windowed_means)\n",
    "data_max = np.max(windowed_means)\n",
    "\n",
    "# Find the maximum absolute value\n",
    "value_max = max(abs(data_min), abs(data_max))\n",
    "\n",
    "print(\"Mean of windowed means:\", data_mean)\n",
    "print(\"Minimum mean:\", data_min)\n",
    "print(\"Maximum mean:\", data_max)\n",
    "print(\"Maximum absolute value:\", value_max)"
   ]
  },
  {
   "cell_type": "markdown",
   "id": "2447ab56-56b5-48a8-911f-fed6b9682152",
   "metadata": {},
   "source": [
    "### Q4 (10 marks)\n",
    "Write a code for database integration and manipulating the data using SQL clause. Explain the significance of RDBMS such as SQL in the field of artificial intelligence (AI). Discuss why they are essential for tasks such as data storage, retrieval, pre-processing, and integration in AI applications. Describe the process of connecting to a MySQL database, creating tables, and storing values. Highlight how proficient utilization of databases and SQL enhances the efficiency and effectiveness of AI systems. Make sure to run the code and attach a screenshot of your machine in the appendix of your report.            \n"
   ]
  },
  {
   "cell_type": "code",
   "execution_count": 9,
   "id": "fff4275b-379f-4c13-9f54-8f2858f1faae",
   "metadata": {},
   "outputs": [
    {
     "name": "stdout",
     "output_type": "stream",
     "text": [
      "Record inserted.\n"
     ]
    }
   ],
   "source": [
    "# connect the database to the SQL application\n",
    "import mysql.connector\n",
    "\n",
    "# Connect to your MySQL database\n",
    "mydb = mysql.connector.connect(user = 'root',\n",
    "                               host = '127.0.0.1',\n",
    "                                port = '3307',\n",
    "                               password='mysqlmysql',\n",
    "                              database = 'mysql')\n",
    "\n",
    "# Create a cursor object\n",
    "mycursor = mydb.cursor()\n",
    "\n",
    "# Create the table if it doesn't exist\n",
    "mycursor.execute(\"CREATE TABLE IF NOT EXISTS coffeeshop1 (name VARCHAR(255), address VARCHAR(255))\")\n",
    "\n",
    "\n",
    "# Define the values you want to insert\n",
    "values1 = (\"Little Cat Coffee Shop\", \"1 Camden St Dublin\")\n",
    "values2 = (\"Treat YoSelf\", \"45 Main St Dublin\")\n",
    "values3 = (\"Coffee Cloud\", \"90 Naas Rd Kildare\")\n",
    "\n",
    "\n",
    "# Execute the SQL query to insert values into your table\n",
    "mycursor.execute(\"INSERT INTO coffeeshop1 (name, address) VALUES (%s, %s)\", values1)\n",
    "mycursor.execute(\"INSERT INTO coffeeshop1 (name, address) VALUES (%s, %s)\", values2)\n",
    "mycursor.execute(\"INSERT INTO coffeeshop1 (name, address) VALUES (%s, %s)\", values3)\n",
    "\n",
    "\n",
    "# Commit the changes to the database\n",
    "mydb.commit()\n",
    "\n",
    "# Print a message confirming the insertion\n",
    "print(\"Record inserted.\")"
   ]
  },
  {
   "cell_type": "markdown",
   "id": "a559e50a-a820-4ca0-82d7-9724d68157f9",
   "metadata": {},
   "source": [
    "## Q5 (15 marks)\n",
    "Conduct an exploratory data analysis (EDA) on the Iris dataset from scikit learn using Python. The objective is to provide a comprehensive overview of the dataset, including an examination of its features and target variables, as well as understanding the data structure—specifically its shape, data types, and any missing values. The analysis should include descriptive statistics for each feature, along with visualizations such as histograms and boxplots to explore feature distributions and relationships among the species. Additionally, a correlation matrix should be generated to identify significant correlations between features. Finally, the report should include interpretations and conclusions drawn from the analyses and visualizations, effectively summarizing insights gained from the EDA process. Make sure to run the code and attach a screenshot of your machine in the appendix of your report.\n"
   ]
  },
  {
   "cell_type": "code",
   "execution_count": 11,
   "id": "9803538b-6dc1-4be4-8de9-c060d637083b",
   "metadata": {},
   "outputs": [
    {
     "data": {
      "text/html": [
       "<div>\n",
       "<style scoped>\n",
       "    .dataframe tbody tr th:only-of-type {\n",
       "        vertical-align: middle;\n",
       "    }\n",
       "\n",
       "    .dataframe tbody tr th {\n",
       "        vertical-align: top;\n",
       "    }\n",
       "\n",
       "    .dataframe thead th {\n",
       "        text-align: right;\n",
       "    }\n",
       "</style>\n",
       "<table border=\"1\" class=\"dataframe\">\n",
       "  <thead>\n",
       "    <tr style=\"text-align: right;\">\n",
       "      <th></th>\n",
       "      <th>sepalLength</th>\n",
       "      <th>sepalWidth</th>\n",
       "      <th>petalLength</th>\n",
       "      <th>petalWidth</th>\n",
       "    </tr>\n",
       "  </thead>\n",
       "  <tbody>\n",
       "    <tr>\n",
       "      <th>count</th>\n",
       "      <td>150.000000</td>\n",
       "      <td>150.000000</td>\n",
       "      <td>150.000000</td>\n",
       "      <td>150.000000</td>\n",
       "    </tr>\n",
       "    <tr>\n",
       "      <th>mean</th>\n",
       "      <td>5.843333</td>\n",
       "      <td>3.057333</td>\n",
       "      <td>3.758000</td>\n",
       "      <td>1.199333</td>\n",
       "    </tr>\n",
       "    <tr>\n",
       "      <th>std</th>\n",
       "      <td>0.828066</td>\n",
       "      <td>0.435866</td>\n",
       "      <td>1.765298</td>\n",
       "      <td>0.762238</td>\n",
       "    </tr>\n",
       "    <tr>\n",
       "      <th>min</th>\n",
       "      <td>4.300000</td>\n",
       "      <td>2.000000</td>\n",
       "      <td>1.000000</td>\n",
       "      <td>0.100000</td>\n",
       "    </tr>\n",
       "    <tr>\n",
       "      <th>25%</th>\n",
       "      <td>5.100000</td>\n",
       "      <td>2.800000</td>\n",
       "      <td>1.600000</td>\n",
       "      <td>0.300000</td>\n",
       "    </tr>\n",
       "    <tr>\n",
       "      <th>50%</th>\n",
       "      <td>5.800000</td>\n",
       "      <td>3.000000</td>\n",
       "      <td>4.350000</td>\n",
       "      <td>1.300000</td>\n",
       "    </tr>\n",
       "    <tr>\n",
       "      <th>75%</th>\n",
       "      <td>6.400000</td>\n",
       "      <td>3.300000</td>\n",
       "      <td>5.100000</td>\n",
       "      <td>1.800000</td>\n",
       "    </tr>\n",
       "    <tr>\n",
       "      <th>max</th>\n",
       "      <td>7.900000</td>\n",
       "      <td>4.400000</td>\n",
       "      <td>6.900000</td>\n",
       "      <td>2.500000</td>\n",
       "    </tr>\n",
       "  </tbody>\n",
       "</table>\n",
       "</div>"
      ],
      "text/plain": [
       "       sepalLength  sepalWidth  petalLength  petalWidth\n",
       "count   150.000000  150.000000   150.000000  150.000000\n",
       "mean      5.843333    3.057333     3.758000    1.199333\n",
       "std       0.828066    0.435866     1.765298    0.762238\n",
       "min       4.300000    2.000000     1.000000    0.100000\n",
       "25%       5.100000    2.800000     1.600000    0.300000\n",
       "50%       5.800000    3.000000     4.350000    1.300000\n",
       "75%       6.400000    3.300000     5.100000    1.800000\n",
       "max       7.900000    4.400000     6.900000    2.500000"
      ]
     },
     "execution_count": 11,
     "metadata": {},
     "output_type": "execute_result"
    }
   ],
   "source": [
    "import pandas as pd\n",
    "\n",
    "# Load the iris dataset\n",
    "df = pd.read_csv(\"iris.csv\")\n",
    "\n",
    "# Describe the statistical summary of the dataset\n",
    "df.describe()"
   ]
  },
  {
   "cell_type": "code",
   "execution_count": 12,
   "id": "6fcb7229-9453-45c5-a65b-51aa51f1e662",
   "metadata": {},
   "outputs": [
    {
     "data": {
      "text/html": [
       "<div>\n",
       "<style scoped>\n",
       "    .dataframe tbody tr th:only-of-type {\n",
       "        vertical-align: middle;\n",
       "    }\n",
       "\n",
       "    .dataframe tbody tr th {\n",
       "        vertical-align: top;\n",
       "    }\n",
       "\n",
       "    .dataframe thead th {\n",
       "        text-align: right;\n",
       "    }\n",
       "</style>\n",
       "<table border=\"1\" class=\"dataframe\">\n",
       "  <thead>\n",
       "    <tr style=\"text-align: right;\">\n",
       "      <th></th>\n",
       "      <th>sepalLength</th>\n",
       "      <th>sepalWidth</th>\n",
       "      <th>petalLength</th>\n",
       "      <th>petalWidth</th>\n",
       "      <th>species</th>\n",
       "    </tr>\n",
       "  </thead>\n",
       "  <tbody>\n",
       "    <tr>\n",
       "      <th>0</th>\n",
       "      <td>5.1</td>\n",
       "      <td>3.5</td>\n",
       "      <td>1.4</td>\n",
       "      <td>0.2</td>\n",
       "      <td>Setosa</td>\n",
       "    </tr>\n",
       "    <tr>\n",
       "      <th>1</th>\n",
       "      <td>4.9</td>\n",
       "      <td>3.0</td>\n",
       "      <td>1.4</td>\n",
       "      <td>0.2</td>\n",
       "      <td>Setosa</td>\n",
       "    </tr>\n",
       "    <tr>\n",
       "      <th>2</th>\n",
       "      <td>4.7</td>\n",
       "      <td>3.2</td>\n",
       "      <td>1.3</td>\n",
       "      <td>0.2</td>\n",
       "      <td>Setosa</td>\n",
       "    </tr>\n",
       "    <tr>\n",
       "      <th>3</th>\n",
       "      <td>4.6</td>\n",
       "      <td>3.1</td>\n",
       "      <td>1.5</td>\n",
       "      <td>0.2</td>\n",
       "      <td>Setosa</td>\n",
       "    </tr>\n",
       "    <tr>\n",
       "      <th>4</th>\n",
       "      <td>5.0</td>\n",
       "      <td>3.6</td>\n",
       "      <td>1.4</td>\n",
       "      <td>0.2</td>\n",
       "      <td>Setosa</td>\n",
       "    </tr>\n",
       "  </tbody>\n",
       "</table>\n",
       "</div>"
      ],
      "text/plain": [
       "   sepalLength  sepalWidth  petalLength  petalWidth species\n",
       "0          5.1         3.5          1.4         0.2  Setosa\n",
       "1          4.9         3.0          1.4         0.2  Setosa\n",
       "2          4.7         3.2          1.3         0.2  Setosa\n",
       "3          4.6         3.1          1.5         0.2  Setosa\n",
       "4          5.0         3.6          1.4         0.2  Setosa"
      ]
     },
     "execution_count": 12,
     "metadata": {},
     "output_type": "execute_result"
    }
   ],
   "source": [
    "# Display the first few rows\n",
    "iris_df.head()"
   ]
  },
  {
   "cell_type": "code",
   "execution_count": 13,
   "id": "dfb9d4bf-9cd2-4490-8201-e9bd27b9c068",
   "metadata": {},
   "outputs": [
    {
     "data": {
      "text/plain": [
       "(150, 5)"
      ]
     },
     "execution_count": 13,
     "metadata": {},
     "output_type": "execute_result"
    }
   ],
   "source": [
    "iris_df.shape"
   ]
  },
  {
   "cell_type": "code",
   "execution_count": 14,
   "id": "de676e83-0ecd-43e7-852c-2ed106876038",
   "metadata": {},
   "outputs": [
    {
     "name": "stdout",
     "output_type": "stream",
     "text": [
      "<class 'pandas.core.frame.DataFrame'>\n",
      "RangeIndex: 150 entries, 0 to 149\n",
      "Data columns (total 5 columns):\n",
      " #   Column       Non-Null Count  Dtype  \n",
      "---  ------       --------------  -----  \n",
      " 0   sepalLength  150 non-null    float64\n",
      " 1   sepalWidth   150 non-null    float64\n",
      " 2   petalLength  150 non-null    float64\n",
      " 3   petalWidth   150 non-null    float64\n",
      " 4   species      150 non-null    object \n",
      "dtypes: float64(4), object(1)\n",
      "memory usage: 6.0+ KB\n"
     ]
    }
   ],
   "source": [
    "# Get information about the dataset\n",
    "iris_df.info()"
   ]
  },
  {
   "cell_type": "code",
   "execution_count": 15,
   "id": "8aba5aae-5dae-423d-a966-e424d9c35384",
   "metadata": {},
   "outputs": [
    {
     "name": "stdout",
     "output_type": "stream",
     "text": [
      "sepalLength    0\n",
      "sepalWidth     0\n",
      "petalLength    0\n",
      "petalWidth     0\n",
      "species        0\n",
      "dtype: int64\n"
     ]
    }
   ],
   "source": [
    "# Check for missing values\n",
    "print(iris_df.isnull().sum())"
   ]
  },
  {
   "cell_type": "code",
   "execution_count": 16,
   "id": "67c5395c-3305-4377-9dd2-5755d85ea933",
   "metadata": {},
   "outputs": [
    {
     "data": {
      "text/plain": [
       "<Axes: >"
      ]
     },
     "execution_count": 16,
     "metadata": {},
     "output_type": "execute_result"
    },
    {
     "data": {
      "image/png": "[encoded data removed]",
      "text/plain": [
       "<Figure size 640x480 with 1 Axes>"
      ]
     },
     "metadata": {},
     "output_type": "display_data"
    }
   ],
   "source": [
    "import seaborn as sns\n",
    "sns.heatmap(iris_df.isnull(),yticklabels=False,cbar=False,cmap='viridis')"
   ]
  },
  {
   "cell_type": "code",
   "execution_count": 20,
   "id": "321d92bb-0eb8-4014-b0b3-7b55f9cd3c7a",
   "metadata": {
    "scrolled": true
   },
   "outputs": [
    {
     "data": {
      "text/plain": [
       "<Axes: xlabel='petalLength', ylabel='count'>"
      ]
     },
     "execution_count": 20,
     "metadata": {},
     "output_type": "execute_result"
    },
    {
     "data": {
      "image/png": "[encoded data removed]",
      "text/plain": [
       "<Figure size 640x480 with 1 Axes>"
      ]
     },
     "metadata": {},
     "output_type": "display_data"
    }
   ],
   "source": [
    "sns.set_style('whitegrid')\n",
    "sns.countplot(x='petalLength',hue='species',data=iris_df,palette='rainbow')"
   ]
  },
  {
   "cell_type": "code",
   "execution_count": 18,
   "id": "7e610ef1-9aa4-45c3-bdfa-034b1ebe7373",
   "metadata": {},
   "outputs": [
    {
     "data": {
      "image/png": "[encoded data removed]",
      "text/plain": [
       "<Figure size 640x480 with 1 Axes>"
      ]
     },
     "metadata": {},
     "output_type": "display_data"
    }
   ],
   "source": [
    "# Boxplots\n",
    "sns.boxplot(data=iris_df)\n",
    "import matplotlib.pyplot as plt\n",
    "plt.title(\"Boxplot of Iris Features\")\n",
    "plt.show()"
   ]
  },
  {
   "cell_type": "code",
   "execution_count": 22,
   "id": "acdf7152-1cbe-4f4e-a1ce-01a7dce0b514",
   "metadata": {},
   "outputs": [
    {
     "data": {
      "text/plain": [
       "sepalLength    float64\n",
       "sepalWidth     float64\n",
       "petalLength    float64\n",
       "petalWidth     float64\n",
       "species         object\n",
       "dtype: object"
      ]
     },
     "execution_count": 22,
     "metadata": {},
     "output_type": "execute_result"
    }
   ],
   "source": [
    "#Known the Datatypes\n",
    "iris_df.dtypes"
   ]
  },
  {
   "cell_type": "code",
   "execution_count": 24,
   "id": "a90e4bf0-71cf-4762-b7b9-ce2834cbd7f9",
   "metadata": {},
   "outputs": [
    {
     "data": {
      "image/png": "[encoded data removed]",
      "text/plain": [
       "<Figure size 1000x800 with 4 Axes>"
      ]
     },
     "metadata": {},
     "output_type": "display_data"
    }
   ],
   "source": [
    "# Histograms\n",
    "iris_df.hist(figsize=(10, 8))\n",
    "plt.show()"
   ]
  }
 ],
 "metadata": {
  "kernelspec": {
   "display_name": "Python 3 (ipykernel)",
   "language": "python",
   "name": "python3"
  },
  "language_info": {
   "codemirror_mode": {
    "name": "ipython",
    "version": 3
   },
   "file_extension": ".py",
   "mimetype": "text/x-python",
   "name": "python",
   "nbconvert_exporter": "python",
   "pygments_lexer": "ipython3",
   "version": "3.12.3"
  }
 },
 "nbformat": 4,
 "nbformat_minor": 5
}
